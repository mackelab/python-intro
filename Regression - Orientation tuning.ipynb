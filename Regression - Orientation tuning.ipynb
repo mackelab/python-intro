{
 "cells": [
  {
   "cell_type": "code",
   "execution_count": 1,
   "metadata": {
    "collapsed": false,
    "deletable": true,
    "editable": true
   },
   "outputs": [],
   "source": [
    "import numpy as np\n",
    "import matplotlib as mpl\n",
    "import matplotlib.pyplot as plt\n",
    "\n",
    "%matplotlib inline"
   ]
  },
  {
   "cell_type": "markdown",
   "metadata": {
    "deletable": true,
    "editable": true
   },
   "source": [
    "$\\newcommand{\\normalN}{\\mathcal{N}}$"
   ]
  },
  {
   "cell_type": "markdown",
   "metadata": {
    "deletable": true,
    "editable": true
   },
   "source": [
    "# Introduction\n",
    "\n",
    "The working example we will use in this notebook is describing the orientation tuning of a neuron. To do this, we might perform an experiment where a monochrome grating is shown to the animal while the recording from the neuron of interest. Repeating the experiment with different grating orientations, we would obtain the firing rate $f$ of this neuron as a function of the orientation $θ$.\n",
    "\n",
    "<img src='./orientation-tuning_plot.png' style='width: 50%'/>\n",
    "\n",
    "Clearly this neuron responds preferentially to grating orientations around 90°, and with about twice the firing rate as the least preferential direction. The latter is an estimation on the *contrast ratio*, which is the specific quantity we want to evaluate. But to do so with any scientific credibility, we need to do a proper data analysis that takes into account the observation noise – “eyeballing” the number just won't cut it.\n",
    "\n",
    "*Remark* – Contrast is a measure of the amount of *signal* in an output."
   ]
  },
  {
   "cell_type": "markdown",
   "metadata": {
    "deletable": true,
    "editable": true
   },
   "source": [
    "# Loading and plotting the data\n",
    "\n",
    "This first step to any data analysis is to grab the data. We've provided the data for the plot above in the file `orientation-tuning_data.npz`. It comprises two Numpy arrays:\n",
    "\n",
    "* `θarr`: the array of orientations\n",
    "* `farr`: the array of corresponding measured firing rates"
   ]
  },
  {
   "cell_type": "code",
   "execution_count": 2,
   "metadata": {
    "collapsed": false,
    "deletable": true,
    "editable": true
   },
   "outputs": [
    {
     "data": {
      "text/plain": [
       "<matplotlib.text.Text at 0x7f2841bc39e8>"
      ]
     },
     "execution_count": 2,
     "metadata": {},
     "output_type": "execute_result"
    },
    {
     "data": {
      "image/png": "[encoded data removed]",
      "text/plain": [
       "<matplotlib.figure.Figure at 0x7f2843e71710>"
      ]
     },
     "metadata": {},
     "output_type": "display_data"
    }
   ],
   "source": [
    "data = np.load(\"orientation-tuning_data.npz\")\n",
    "θarr = data['θarr']\n",
    "farr = data['farr']\n",
    "\n",
    "plt.scatter(θarr, farr)\n",
    "plt.xlabel(\"θ\")\n",
    "plt.ylabel(\"f(θ)\")"
   ]
  },
  {
   "cell_type": "markdown",
   "metadata": {
    "deletable": true,
    "editable": true
   },
   "source": [
    "# Defining a model\n",
    "\n",
    "## On the ubiquity of models\n",
    "Any interpretation of data implies an underlying model of how the different variables in that data are related. For example, a typically used measure to show that two variables are related is the *correlation coefficient*, which takes values between -1 and 1 (with 0 corresponding fully uncorrelated variables). However, applying this measure to data implicitly assumes a *linear* relationship between the variables—effectively, computing the correlation is akin to imposing a linear model to data. That is why, despite the plot above clearly showing a relationship between $θ$ and $f(θ)$, the correlation between those two quantities is a minuscule $r = -0.043$:"
   ]
  },
  {
   "cell_type": "code",
   "execution_count": 3,
   "metadata": {
    "collapsed": false,
    "deletable": true,
    "editable": true
   },
   "outputs": [
    {
     "data": {
      "text/plain": [
       "array([[ 1.       , -0.0429521],\n",
       "       [-0.0429521,  1.       ]])"
      ]
     },
     "execution_count": 3,
     "metadata": {},
     "output_type": "execute_result"
    }
   ],
   "source": [
    "np.corrcoef(θarr, farr)"
   ]
  },
  {
   "cell_type": "markdown",
   "metadata": {
    "deletable": true,
    "editable": true
   },
   "source": [
    "Thankfully, a model doesn't have a be perfect to be useful. In data analysis, the game is not to find the “perfect“ model, but rather a “good enough” model, that explains the data sufficiently well. We can then compute statistics that tell us how well *that* model fits the data."
   ]
  },
  {
   "cell_type": "markdown",
   "metadata": {
    "deletable": true,
    "editable": true
   },
   "source": [
    "## Our toy model\n",
    "When choosing a model, a good principle is to apply Occam's razor: make it as simple as possible, adding only as much complexity as required to explain the feature that interests us.\n",
    "In this case, we need a model that minimally:\n",
    "\n",
    "- captures the orientation corresponding to maximum neural response $θ_0$;\n",
    "- is periodic (rotating the grating by 180° should give the same response);\n",
    "- ensures $f(θ)$ is always positive.\n",
    "\n",
    "A possible model with these characteristics would be\n",
    "$$f(θ) = α \\cos( 2(θ - θ_0) ) + β \\,,$$\n",
    "\n",
    "It is important to stress that this only *a* model: plenty of other models would also appropriately explain our data. They may involve different parameters, which would take on different values, but they should all agree on measurable quantities: **fitting any sufficiently expressive model to the same data will produce similar estimates for the contrast and preferred orientation.**"
   ]
  },
  {
   "cell_type": "markdown",
   "metadata": {
    "deletable": true,
    "editable": true
   },
   "source": [
    "To translate this model into Python, we define a function `f` which returns the firing rate. You should be able to recognize the components of the equation above in the definition below:"
   ]
  },
  {
   "cell_type": "code",
   "execution_count": 4,
   "metadata": {
    "collapsed": true,
    "deletable": true,
    "editable": true
   },
   "outputs": [],
   "source": [
    "def f(θ, α, β, θ0):\n",
    "    return α * np.cos((θ - θ0)*2) + β"
   ]
  },
  {
   "cell_type": "markdown",
   "metadata": {
    "deletable": true,
    "editable": true
   },
   "source": [
    "# Determining the contrast ratio"
   ]
  },
  {
   "cell_type": "markdown",
   "metadata": {
    "deletable": true,
    "editable": true
   },
   "source": [
    "The contrast ratio is given by \n",
    "$$c = \\frac{f_{max}}{f_{min}} \\,.$$\n",
    "Since $f_{max}$ and $f_{min}$ respectively occur when $θ = θ_0$ and $θ = θ_0 \\pm \\tfrac{\\pi}{4}$, we find that\n",
    "\\begin{equation}\n",
    "c = \\frac{f(θ_0)}{f(θ_0 + \\tfrac{\\pi}{4})} = \\frac{α + β}{-α + β} \\,. \\tag{1}\n",
    "\\end{equation}\n",
    "\n",
    "Thus, to obtain the contrast ratio $c$, we only need to determine $α$ and $β$. This is good news, as our model is linear in both of these parameters, which makes regression easy. For this reason, we will assume that $θ_0$ is known and set it to 90° for the purposes of this exercise. Of course, in a realistic setting $θ_0$ would also need to be determined from the data."
   ]
  },
  {
   "cell_type": "code",
   "execution_count": 5,
   "metadata": {
    "collapsed": true,
    "deletable": true,
    "editable": true
   },
   "outputs": [],
   "source": [
    "# Preferred orientation obtained through a magical oracle\n",
    "θ0 = 0.5*np.pi"
   ]
  },
  {
   "cell_type": "markdown",
   "metadata": {
    "deletable": true,
    "editable": true
   },
   "source": [
    "## Finding $α$ and $β$ using least-squares"
   ]
  },
  {
   "cell_type": "markdown",
   "metadata": {
    "deletable": true,
    "editable": true
   },
   "source": [
    "To find the values of $α$ and $β$, we need a way of quantifying “how wrong” our model is. There are many ways of doing this, and perhaps the most common is the squared distance:\n",
    "\\begin{equation}\n",
    "D = \\sum_i (\\hat{f}(θ_i) - f(θ_i))^2 \\,, \\tag{2}\n",
    "\\end{equation}\n",
    "where the $f(θ_i)$ are the measured data points and $\\hat{f}(θ_i)$ are the corresponding estimates made by our model. A model that perfectly predicts the data would have $D = 0$, and any deviation from the data would cause $D$ to become greater than 0. Thus the parameter values which minimize $D$ would be “optimal” in that they produce the model which is closest to perfect – this is called a *least-squares estimate* for those parameters.\n",
    "\n",
    "To find the minimum of a function, we set its derivative to 0. (c.f. your favourite introductory calculus resource.) Here we want to minimize $D$ for both $α$ and $β$, so we set both those derivatives to zero:\n",
    "\\begin{equation}\n",
    "\\begin{aligned}\n",
    "\\frac{\\partial\\,D(α,β,θ_0)}{\\partial α} &= \\sum_i \\biggl[ 2 \\,\\cos( 2(θ_i - θ_0))^2 \\, α + 2 \\, \\cos( 2(θ_i - θ_0) ) \\, β  - 2 \\, \\cos( 2(θ_i - θ_0) ) f(θ_i) \\biggr] \\\\\n",
    "\\frac{\\partial\\,D(α,β,θ_0)}{\\partial β} &= \\sum_i \\biggl[ 2 \\,\\cos( 2(θ_i - θ_0)) \\, α + 2 \\, β  - 2 f(θ_i) \\biggr] \\,.\n",
    "\\end{aligned} \\tag{3}\n",
    "\\end{equation}\n",
    "We can rewrite this as a system of two equations with two unknowns:\n",
    "\\begin{equation}\n",
    "\\begin{aligned}\n",
    "0 &= a_{11} α + a_{12} β + a_{13} \\\\\n",
    "0 &= a_{21} α + a_{22} β + a_{23} \\,,\n",
    "\\end{aligned} \\tag{4}\n",
    "\\end{equation}\n",
    "where\n",
    "\\begin{align*}\n",
    "a_{11} &= \\sum_i 2 \\,\\cos( 2(θ_i - θ_0))^2 & a_{12} &= \\sum_i 2 \\, \\cos( 2(θ_i - θ_0) ) & a_{13} &= - \\sum_i 2 \\, \\cos( 2(θ_i - θ_0) ) f(θ_i) \\,; \\\\\n",
    "a_{21} &= \\sum_i 2 \\,\\cos( 2(θ_i - θ_0)) & a_{12} &= \\sum_i 2 & a_{13} &= - \\sum_i 2 f(θ_i) \\,, \\\\\n",
    "\\end{align*}\n",
    "\n",
    "Solving this system for $α$ and $β$ will give us the desired parameters.\n",
    "\n",
    "*Remark* – We should note that choosing to minimize the squared error is equivalent to assuming that the discrepancies between the data and our estimate are due to *additive Gaussian noise*. Thus the type of noise we expect should dictate our choice of error measure."
   ]
  },
  {
   "cell_type": "markdown",
   "metadata": {
    "deletable": true,
    "editable": true
   },
   "source": [
    "# Exercise"
   ]
  },
  {
   "cell_type": "markdown",
   "metadata": {
    "deletable": true,
    "editable": true
   },
   "source": [
    "## 1. Determine the contrast ratio\n",
    "\n",
    "Solve (on paper) the system of equations (4) for $α$ and $β$ in terms of the $a_{ij}$. Then use Python, along with the data loaded at the beginning of this notebook, to compute the least-squares estimates for $α$ and $β$.\n",
    "\n",
    "Finally, use Eq.&nbsp;(1) to compute the contrast."
   ]
  },
  {
   "cell_type": "code",
   "execution_count": null,
   "metadata": {
    "collapsed": true,
    "deletable": true,
    "editable": true
   },
   "outputs": [],
   "source": [
    "# Type your solution in here. Add more code cells with the '+' button in the toolbar.\n"
   ]
  },
  {
   "cell_type": "markdown",
   "metadata": {
    "deletable": true,
    "editable": true
   },
   "source": [
    "## 2a. Perform least-squares using an optimizer\n",
    "\n",
    "Use *SciPy*'s [`minimize` function](https://docs.scipy.org/doc/scipy/reference/generated/scipy.optimize.minimize.html#scipy.optimize.minimize) to directly minimize Eq.&nbsp;(2); it should find the same values for $α$ and $β$ as in Exercise&nbsp;1. (You can leave the `method` parameter to its default value, which will automatically select a suitable optimizer.)\n",
    "\n",
    "You can start from the code suggested below, or go your own way."
   ]
  },
  {
   "cell_type": "code",
   "execution_count": 22,
   "metadata": {
    "collapsed": false,
    "deletable": true,
    "editable": true
   },
   "outputs": [],
   "source": [
    "# Find the optimal parameters\n",
    "from scipy.optimize import minimize\n",
    "\n",
    "def D(params):\n",
    "    return sum( _____________________ for θ, fobs in zip(θarr, farr))\n",
    "\n",
    "res = minimize(_____________)"
   ]
  },
  {
   "cell_type": "code",
   "execution_count": null,
   "metadata": {
    "collapsed": true,
    "deletable": true,
    "editable": true
   },
   "outputs": [],
   "source": [
    "# Print them\n",
    "print(\"α = {}\".format(res._____))\n",
    "print(\"β = {}\".format(_________))\n",
    "print(\"contrast: {}\".____________)"
   ]
  },
  {
   "cell_type": "markdown",
   "metadata": {
    "deletable": true,
    "editable": true
   },
   "source": [
    "## 2b. Optimize using the gradient\n",
    "\n",
    "Repeat Exercise&nbsp;2, this time specifying the 'CG' method. Note that this method makes use of the derivative (which we calculed in Eq.&nbsp;(3)), so you will need to define an function for the gradient. (In the *SciPy* documentation, the derivative is referred to as the “gradient” or the “jacobian”.)"
   ]
  },
  {
   "cell_type": "code",
   "execution_count": null,
   "metadata": {
    "collapsed": true,
    "deletable": true,
    "editable": true
   },
   "outputs": [],
   "source": [
    "# Solution to Exercise 2b"
   ]
  },
  {
   "cell_type": "markdown",
   "metadata": {
    "deletable": true,
    "editable": true
   },
   "source": [
    "## 3a. Make your own data\n",
    "\n",
    "Produce your own dataset, using the same model but with different parameters. Plot the frequency response curve ($f(θ)$ vs $θ$), and see confirm that the code you wrote for exercises 1 and 2 is able to recover the correct parameters."
   ]
  },
  {
   "cell_type": "code",
   "execution_count": null,
   "metadata": {
    "collapsed": true,
    "deletable": true,
    "editable": true
   },
   "outputs": [],
   "source": [
    "# Solution to Exercise 3a"
   ]
  },
  {
   "cell_type": "markdown",
   "metadata": {
    "deletable": true,
    "editable": true
   },
   "source": [
    "## 3b. Quantifying error\n",
    "\n",
    "Using your answer from exercise&nbsp;3a, generate multiple sets of 100 data points for the same parameters. What is the variance in the estimate of $α$ and $β$ ? Plot a histogram ([`matplotlib.pyplot.hist`](https://matplotlib.org/api/pyplot_api.html#matplotlib.pyplot.hist) of the estimated parameters – are they centered around the true values of $α$ and $β$ ?\n",
    "\n",
    "Compute the variance on the estimate of $α$ for sample sizes ranging between 5 and 5000; polt the result as a function of sample size."
   ]
  },
  {
   "cell_type": "code",
   "execution_count": null,
   "metadata": {
    "collapsed": true,
    "deletable": true,
    "editable": true
   },
   "outputs": [],
   "source": [
    "# Solution to Exercise 3b"
   ]
  },
  {
   "cell_type": "markdown",
   "metadata": {
    "deletable": true,
    "editable": true,
    "heading_collapsed": true
   },
   "source": [
    "# Resources\n",
    "\n",
    "The following functions were used to generate data for this notebook and are not part of the exercise."
   ]
  },
  {
   "cell_type": "code",
   "execution_count": 98,
   "metadata": {
    "collapsed": false,
    "deletable": true,
    "editable": true,
    "hidden": true
   },
   "outputs": [],
   "source": [
    "class NeuronModel:\n",
    "    \n",
    "    def __init__(self, θ0, α, β, σ):\n",
    "        self.α = α\n",
    "        self.β = β\n",
    "        self.σ = σ\n",
    "        self.θ0 = θ0\n",
    "        \n",
    "    def f(self, θ):\n",
    "        return np.clip(self.α * np.cos((θ - self.θ0)*2) + self.β + self.σ * np.random.normal(0, 1),\n",
    "                       0, np.inf)\n",
    "        return retval"
   ]
  },
  {
   "cell_type": "code",
   "execution_count": 111,
   "metadata": {
    "collapsed": true,
    "deletable": true,
    "editable": true,
    "hidden": true
   },
   "outputs": [],
   "source": [
    "neuron = NeuronModel(np.pi/2, 1.8, 10, 0.6)"
   ]
  },
  {
   "cell_type": "code",
   "execution_count": 112,
   "metadata": {
    "collapsed": false,
    "deletable": true,
    "editable": true,
    "hidden": true
   },
   "outputs": [
    {
     "data": {
      "image/png": "[encoded data removed]",
      "text/plain": [
       "<matplotlib.figure.Figure at 0x7fe54ae50d30>"
      ]
     },
     "metadata": {},
     "output_type": "display_data"
    }
   ],
   "source": [
    "#θarr = np.random.uniform(0, np.pi, 15)\n",
    "θarr = np.linspace(0, np.pi, 100)\n",
    "farr = np.array([neuron.f(θ) for θ in θarr])\n",
    "plt.scatter(θarr/np.pi, farr)\n",
    "plt.xlabel(\"$θ$ (radians)\")\n",
    "plt.ylabel(\"f(θ)\")\n",
    "# Magic incantation for radians from http://stackoverflow.com/a/40642200\n",
    "ax = plt.gca()\n",
    "ax.xaxis.set_major_formatter(plt.FormatStrFormatter('%g $\\pi$'))\n",
    "ax.xaxis.set_major_locator(mpl.ticker.MultipleLocator(base=0.25))"
   ]
  },
  {
   "cell_type": "code",
   "execution_count": 116,
   "metadata": {
    "collapsed": true,
    "deletable": true,
    "editable": true,
    "hidden": true
   },
   "outputs": [],
   "source": [
    "np.savez(\"regression_orientation-tuning_data.npz\", θarr=θarr, farr=farr)"
   ]
  },
  {
   "cell_type": "code",
   "execution_count": null,
   "metadata": {
    "collapsed": true,
    "deletable": true,
    "editable": true,
    "hidden": true
   },
   "outputs": [],
   "source": []
  }
 ],
 "metadata": {
  "kernelspec": {
   "display_name": "Python (mackelab)",
   "language": "python",
   "name": "mackelab"
  },
  "language_info": {
   "codemirror_mode": {
    "name": "ipython",
    "version": 3
   },
   "file_extension": ".py",
   "mimetype": "text/x-python",
   "name": "python",
   "nbconvert_exporter": "python",
   "pygments_lexer": "ipython3",
   "version": "3.5.2"
  },
  "latex_envs": {
   "LaTeX_envs_menu_present": true,
   "bibliofile": "biblio.bib",
   "cite_by": "apalike",
   "current_citInitial": 1,
   "eqLabelWithNumbers": true,
   "eqNumInitial": 1,
   "labels_anchors": false,
   "latex_user_defs": false,
   "report_style_numbering": false,
   "user_envs_cfg": false
  }
 },
 "nbformat": 4,
 "nbformat_minor": 2
}
