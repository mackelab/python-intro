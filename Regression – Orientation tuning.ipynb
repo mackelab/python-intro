{
 "cells": [
  {
   "cell_type": "code",
   "execution_count": 30,
   "metadata": {
    "collapsed": true,
    "deletable": true,
    "editable": true
   },
   "outputs": [],
   "source": [
    "import numpy as np\n",
    "import matplotlib as mpl\n",
    "import matplotlib.pyplot as plt\n",
    "\n",
    "%matplotlib inline"
   ]
  },
  {
   "cell_type": "markdown",
   "metadata": {
    "deletable": true,
    "editable": true
   },
   "source": [
    "$\\newcommand{\\normalN}{\\mathcal{N}}$"
   ]
  },
  {
   "cell_type": "markdown",
   "metadata": {
    "deletable": true,
    "editable": true
   },
   "source": [
    "# Introduction\n",
    "\n",
    "The working example we will use in this notebook is determining the orientation tuning of a neuron. To do this, we might perform an experiment where a monochrome grating is shown to the animal while the recording from the neuron of interest. Repeating the experiment with different grating orientations, we would obtain the firing rate $f$ of this neuron as a function of the orientation $θ$.\n",
    "\n",
    "<img src='./orientation-tuning_plot.png' style='width: 50%'/>\n",
    "\n",
    "Clearly this neuron responds preferentially to grating orientations around 90°, but how precise can we be with this number&nbsp;? A proper analysis of the data should provide us not only with a point estimate, but also with the range of values that are consistent with the data."
   ]
  },
  {
   "cell_type": "markdown",
   "metadata": {
    "deletable": true,
    "editable": true
   },
   "source": [
    "# Loading and plotting the data\n",
    "\n",
    "This first step to any data analysis is to grab the data. We've provided the data for the plot above in the file `orientation-tuning_data.npz`. It comprises two Numpy arrays:\n",
    "\n",
    "* `θarr`: the array of orientations\n",
    "* `farr`: the array of corresponding measured firing rates"
   ]
  },
  {
   "cell_type": "code",
   "execution_count": 122,
   "metadata": {
    "collapsed": true,
    "deletable": true,
    "editable": true
   },
   "outputs": [],
   "source": [
    "data = np.load(\"orientation-tuning_data.npz\")\n",
    "θarr = data['θarr']\n",
    "farr = data['farr']"
   ]
  },
  {
   "cell_type": "markdown",
   "metadata": {
    "deletable": true,
    "editable": true
   },
   "source": [
    "# Defining a model\n",
    "\n",
    "## On the ubiquity of models\n",
    "Any interpretation of data implies an underlying model of how the different variables in that data are related. For example, a typically used measure to show that two variables are related is the *correlation coefficient*, which takes values between -1 and 1 (with 0 corresponding fully uncorrelated variables). However, applying this measure to data implicitly assumes a *linear* relationship between the variables—effectively, computing the correlation is akin to imposing a linear model to data. That is why, despite the plot above clearly showing a relationship between $θ$ and $f(θ)$, the correlation between those two quantities is a minuscule $r = -0.043$:"
   ]
  },
  {
   "cell_type": "code",
   "execution_count": 136,
   "metadata": {
    "collapsed": false,
    "deletable": true,
    "editable": true
   },
   "outputs": [
    {
     "data": {
      "text/plain": [
       "array([[ 1.       , -0.0429521],\n",
       "       [-0.0429521,  1.       ]])"
      ]
     },
     "execution_count": 136,
     "metadata": {},
     "output_type": "execute_result"
    }
   ],
   "source": [
    "np.corrcoef(θarr, farr)"
   ]
  },
  {
   "cell_type": "markdown",
   "metadata": {
    "deletable": true,
    "editable": true
   },
   "source": [
    "Thankfully, a model doesn't have a be perfect to be useful. In data analysis, the game is not to find the “perfect“ model, but rather a “good enough” model, that explains the data sufficiently well. We can then compute statistics that tell us how well *that* model fits the data."
   ]
  },
  {
   "cell_type": "markdown",
   "metadata": {
    "deletable": true,
    "editable": true
   },
   "source": [
    "## Our toy model\n",
    "When choosing a model, a good principle is to apply Occam's razor: make it as simple as possible, adding only as much complexity as required to explain the feature that interests us.\n",
    "\n",
    "In this case, we need a model that minimally:\n",
    "\n",
    "- captures the orientation corresponding to maximum neural response: $θ_0$;\n",
    "- is periodic (rotating the grating by 180° should give the same response);\n",
    "- ensures $f(θ)$ is always positive;\n",
    "- includes observation noise.\n",
    "\n",
    "A possible model with these characteristics would be\n",
    "$$f(θ) = α \\cos( 2(θ - θ_0) ) + β + σ \\normalN(0, 1) \\,,$$\n",
    "with the additional constraint that negative values of $f(θ)$ be clipped to 0.\n",
    "\n",
    "It is important to stress that this only *a* model: plenty of other models would also appropriately explain our data. They may involve different parameters, which would take on different values, but they should all agree on common attributes: **any sufficiently expressive model will give comparable estimates of the range of possible $θ_0$.**"
   ]
  },
  {
   "cell_type": "code",
   "execution_count": 118,
   "metadata": {
    "collapsed": false,
    "deletable": true,
    "editable": true
   },
   "outputs": [],
   "source": [
    "\n",
    "\n",
    "plt.scatter(θarr/np.pi, farr)\n",
    "plt.xlabel(\"$θ$ (radians)\")\n",
    "plt.ylabel(\"f(θ)\")"
   ]
  },
  {
   "cell_type": "code",
   "execution_count": 120,
   "metadata": {
    "collapsed": false,
    "deletable": true,
    "editable": true
   },
   "outputs": [
    {
     "data": {
      "text/plain": [
       "array([ 0.        ,  0.03173326,  0.06346652,  0.09519978,  0.12693304,\n",
       "        0.1586663 ,  0.19039955,  0.22213281,  0.25386607,  0.28559933,\n",
       "        0.31733259,  0.34906585,  0.38079911,  0.41253237,  0.44426563,\n",
       "        0.47599889,  0.50773215,  0.53946541,  0.57119866,  0.60293192,\n",
       "        0.63466518,  0.66639844,  0.6981317 ,  0.72986496,  0.76159822,\n",
       "        0.79333148,  0.82506474,  0.856798  ,  0.88853126,  0.92026451,\n",
       "        0.95199777,  0.98373103,  1.01546429,  1.04719755,  1.07893081,\n",
       "        1.11066407,  1.14239733,  1.17413059,  1.20586385,  1.23759711,\n",
       "        1.26933037,  1.30106362,  1.33279688,  1.36453014,  1.3962634 ,\n",
       "        1.42799666,  1.45972992,  1.49146318,  1.52319644,  1.5549297 ,\n",
       "        1.58666296,  1.61839622,  1.65012947,  1.68186273,  1.71359599,\n",
       "        1.74532925,  1.77706251,  1.80879577,  1.84052903,  1.87226229,\n",
       "        1.90399555,  1.93572881,  1.96746207,  1.99919533,  2.03092858,\n",
       "        2.06266184,  2.0943951 ,  2.12612836,  2.15786162,  2.18959488,\n",
       "        2.22132814,  2.2530614 ,  2.28479466,  2.31652792,  2.34826118,\n",
       "        2.37999443,  2.41172769,  2.44346095,  2.47519421,  2.50692747,\n",
       "        2.53866073,  2.57039399,  2.60212725,  2.63386051,  2.66559377,\n",
       "        2.69732703,  2.72906028,  2.76079354,  2.7925268 ,  2.82426006,\n",
       "        2.85599332,  2.88772658,  2.91945984,  2.9511931 ,  2.98292636,\n",
       "        3.01465962,  3.04639288,  3.07812614,  3.10985939,  3.14159265])"
      ]
     },
     "execution_count": 120,
     "metadata": {},
     "output_type": "execute_result"
    }
   ],
   "source": [
    "data['θarr']"
   ]
  },
  {
   "cell_type": "code",
   "execution_count": 98,
   "metadata": {
    "collapsed": false,
    "deletable": true,
    "editable": true
   },
   "outputs": [],
   "source": [
    "class NeuronModel:\n",
    "    \n",
    "    def __init__(self, θ0, α, β, σ):\n",
    "        self.α = α\n",
    "        self.β = β\n",
    "        self.σ = σ\n",
    "        self.θ0 = θ0\n",
    "        \n",
    "    def f(self, θ):\n",
    "        return np.clip(self.α * np.cos((θ - self.θ0)*2) + self.β + self.σ * np.random.normal(0, 1),\n",
    "                       0, np.inf)\n",
    "        return retval"
   ]
  },
  {
   "cell_type": "code",
   "execution_count": 111,
   "metadata": {
    "collapsed": true,
    "deletable": true,
    "editable": true
   },
   "outputs": [],
   "source": [
    "neuron = NeuronModel(np.pi/2, 1.8, 10, 0.6)"
   ]
  },
  {
   "cell_type": "code",
   "execution_count": 112,
   "metadata": {
    "collapsed": false,
    "deletable": true,
    "editable": true
   },
   "outputs": [
    {
     "data": {
      "image/png": "[encoded data removed]",
      "text/plain": [
       "<matplotlib.figure.Figure at 0x7fe54ae50d30>"
      ]
     },
     "metadata": {},
     "output_type": "display_data"
    }
   ],
   "source": [
    "#θarr = np.random.uniform(0, np.pi, 15)\n",
    "θarr = np.linspace(0, np.pi, 100)\n",
    "farr = np.array([neuron.f(θ) for θ in θarr])\n",
    "plt.scatter(θarr/np.pi, farr)\n",
    "plt.xlabel(\"$θ$ (radians)\")\n",
    "plt.ylabel(\"f(θ)\")\n",
    "# Magic incantation for radians from http://stackoverflow.com/a/40642200\n",
    "ax = plt.gca()\n",
    "ax.xaxis.set_major_formatter(plt.FormatStrFormatter('%g $\\pi$'))\n",
    "ax.xaxis.set_major_locator(mpl.ticker.MultipleLocator(base=0.25))"
   ]
  },
  {
   "cell_type": "code",
   "execution_count": 116,
   "metadata": {
    "collapsed": true,
    "deletable": true,
    "editable": true
   },
   "outputs": [],
   "source": [
    "np.savez(\"regression_orientation-tuning_data.npz\", θarr=θarr, farr=farr)"
   ]
  },
  {
   "cell_type": "markdown",
   "metadata": {
    "deletable": true,
    "editable": true
   },
   "source": [
    "# Library\n",
    "\n",
    "Set of functions used in this notebook"
   ]
  },
  {
   "cell_type": "code",
   "execution_count": null,
   "metadata": {
    "collapsed": true,
    "deletable": true,
    "editable": true
   },
   "outputs": [],
   "source": []
  }
 ],
 "metadata": {
  "kernelspec": {
   "display_name": "Python (mackelab)",
   "language": "python",
   "name": "mackelab"
  },
  "language_info": {
   "codemirror_mode": {
    "name": "ipython",
    "version": 3
   },
   "file_extension": ".py",
   "mimetype": "text/x-python",
   "name": "python",
   "nbconvert_exporter": "python",
   "pygments_lexer": "ipython3",
   "version": "3.5.2"
  },
  "latex_envs": {
   "LaTeX_envs_menu_present": true,
   "bibliofile": "biblio.bib",
   "cite_by": "apalike",
   "current_citInitial": 1,
   "eqLabelWithNumbers": true,
   "eqNumInitial": 1,
   "labels_anchors": false,
   "latex_user_defs": false,
   "report_style_numbering": false,
   "user_envs_cfg": false
  }
 },
 "nbformat": 4,
 "nbformat_minor": 2
}
